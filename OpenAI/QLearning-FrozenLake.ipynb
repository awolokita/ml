{
 "cells": [
  {
   "cell_type": "code",
   "execution_count": 33,
   "metadata": {
    "collapsed": true
   },
   "outputs": [],
   "source": [
    "import gym\n",
    "import numpy as np\n",
    "import matplotlib.pyplot as plt"
   ]
  },
  {
   "cell_type": "code",
   "execution_count": 34,
   "metadata": {
    "collapsed": true
   },
   "outputs": [],
   "source": [
    "env = gym.make('FrozenLake-v0')"
   ]
  },
  {
   "cell_type": "code",
   "execution_count": 48,
   "metadata": {
    "collapsed": false
   },
   "outputs": [],
   "source": [
    "# Set up Q table\n",
    "num_observations = env.observation_space.n\n",
    "num_actions = env.action_space.n\n",
    "Q_table = np.zeros([num_observations, num_actions])\n",
    "\n",
    "# Hyperparameters\n",
    "learning_rate = 0.8\n",
    "gamma = 0.95\n",
    "num_episodes = 2000\n",
    "max_actions_per_episode = 100\n",
    "\n",
    "# Logging\n",
    "cumulative_reward = 0\n",
    "cumulative_reward_list = []\n",
    "reward_list = []\n",
    "\n",
    "# Start training\n",
    "for episode in range(num_episodes):\n",
    "    state = env.reset()\n",
    "    episode_reward = 0\n",
    "    \n",
    "    done = False\n",
    "    noise_weight = 1.0/(episode+1)\n",
    "    for step in range(max_actions_per_episode):\n",
    "        # Generate random noise for the actions\n",
    "        Q_noise = np.random.randn(1, num_actions)\n",
    "        \n",
    "        # Inversly weight Q noise by number of elapsed episodes(annealing)\n",
    "        Q_noise *= noise_weight\n",
    "        \n",
    "        # Choose an action with noise\n",
    "        action = np.argmax(Q_table[state,:] + Q_noise)\n",
    "        \n",
    "        # Take a step and get next state, reward and done flag from environment\n",
    "        state_new, reward, done, _ = env.step(action)\n",
    "        \n",
    "        # Update the Q table with new knowledge\n",
    "        # We want to update the value in the table slowly, keeping some of\n",
    "        # the previous Q. This may help to counter stochasticity in the\n",
    "        # environment\n",
    "        # Get the Q values for the state prior to and after the action\n",
    "        current_Q = Q_table[state, action]\n",
    "        max_next_Q = np.max(Q_table[state_new, :])\n",
    "        \n",
    "        # Compute the new Q value\n",
    "        new_Q = (1-learning_rate) * current_Q + \\\n",
    "                learning_rate*(reward + gamma * max_next_Q)\n",
    "        \n",
    "        # Update the Q value for the state and action prior to the action\n",
    "        Q_table[state, action] = new_Q\n",
    "        \n",
    "        # Current state = next state\n",
    "        state = state_new\n",
    "        \n",
    "        episode_reward += reward\n",
    "        \n",
    "        # End the episode if we're at the goal\n",
    "        if done == True:\n",
    "            break\n",
    "            \n",
    "    reward_list.append(episode_reward)\n",
    "    cumulative_reward += episode_reward\n",
    "    cumulative_reward_list.append(cumulative_reward)"
   ]
  },
  {
   "cell_type": "code",
   "execution_count": 49,
   "metadata": {
    "collapsed": false
   },
   "outputs": [
    {
     "data": {
      "image/png": "[encoded data removed]",
      "text/plain": [
       "<matplotlib.figure.Figure at 0x1f8e4527710>"
      ]
     },
     "metadata": {},
     "output_type": "display_data"
    },
    {
     "data": {
      "image/png": "[encoded data removed]",
      "text/plain": [
       "<matplotlib.figure.Figure at 0x1f8e89d2400>"
      ]
     },
     "metadata": {},
     "output_type": "display_data"
    }
   ],
   "source": [
    "plt.plot(cumulative_reward_list)\n",
    "\n",
    "plt.show()\n",
    "plt.plot(reward_list)\n",
    "plt.show()"
   ]
  },
  {
   "cell_type": "code",
   "execution_count": 47,
   "metadata": {
    "collapsed": false
   },
   "outputs": [
    {
     "data": {
      "text/plain": [
       "(4, 0.0, True, {'prob': 0.3333333333333333})"
      ]
     },
     "execution_count": 47,
     "metadata": {},
     "output_type": "execute_result"
    }
   ],
   "source": [
    "env.step(1)"
   ]
  },
  {
   "cell_type": "code",
   "execution_count": 24,
   "metadata": {
    "collapsed": false
   },
   "outputs": [
    {
     "data": {
      "text/plain": [
       "0.1111111111111111"
      ]
     },
     "execution_count": 24,
     "metadata": {},
     "output_type": "execute_result"
    }
   ],
   "source": [
    "1./9"
   ]
  },
  {
   "cell_type": "code",
   "execution_count": 25,
   "metadata": {
    "collapsed": false
   },
   "outputs": [
    {
     "data": {
      "text/plain": [
       "0.1111111111111111"
      ]
     },
     "execution_count": 25,
     "metadata": {},
     "output_type": "execute_result"
    }
   ],
   "source": [
    "1/9"
   ]
  },
  {
   "cell_type": "code",
   "execution_count": 26,
   "metadata": {
    "collapsed": false
   },
   "outputs": [
    {
     "data": {
      "text/plain": [
       "0"
      ]
     },
     "execution_count": 26,
     "metadata": {},
     "output_type": "execute_result"
    }
   ],
   "source": [
    "env.reset()"
   ]
  },
  {
   "cell_type": "code",
   "execution_count": null,
   "metadata": {
    "collapsed": true
   },
   "outputs": [],
   "source": []
  }
 ],
 "metadata": {
  "anaconda-cloud": {},
  "kernelspec": {
   "display_name": "Python [conda root]",
   "language": "python",
   "name": "conda-root-py"
  },
  "language_info": {
   "codemirror_mode": {
    "name": "ipython",
    "version": 3
   },
   "file_extension": ".py",
   "mimetype": "text/x-python",
   "name": "python",
   "nbconvert_exporter": "python",
   "pygments_lexer": "ipython3",
   "version": "3.5.2"
  }
 },
 "nbformat": 4,
 "nbformat_minor": 1
}
